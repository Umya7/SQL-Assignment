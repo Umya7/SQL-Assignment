{
 "cells": [
  {
   "cell_type": "markdown",
   "id": "fa9253a6",
   "metadata": {},
   "source": [
    "### Assignment 8"
   ]
  },
  {
   "cell_type": "markdown",
   "id": "1421141f",
   "metadata": {},
   "source": [
    "**Q.1** Write an SQL query to fetch intersecting records of two tables."
   ]
  },
  {
   "cell_type": "markdown",
   "id": "4bba41df",
   "metadata": {},
   "source": [
    "**Ans:-**\n",
    "```python\n",
    "SELECT <Column_names> FROM table_1 INTERSECT SELECT <Column_names> FROM table_2;\n",
    "```"
   ]
  },
  {
   "cell_type": "markdown",
   "id": "1ddf307e",
   "metadata": {},
   "source": [
    "**Q.2.** Write an SQL query to show records from one table that another table does not have."
   ]
  },
  {
   "cell_type": "markdown",
   "id": "df4dde13",
   "metadata": {},
   "source": [
    "**Ans:-**\n",
    "```python\n",
    "SELECT * FROM table_1 EXCEPT SELECT * FROM table_2;\n",
    "```"
   ]
  }
 ],
 "metadata": {
  "kernelspec": {
   "display_name": "Python 3",
   "language": "python",
   "name": "python3"
  },
  "language_info": {
   "codemirror_mode": {
    "name": "ipython",
    "version": 3
   },
   "file_extension": ".py",
   "mimetype": "text/x-python",
   "name": "python",
   "nbconvert_exporter": "python",
   "pygments_lexer": "ipython3",
   "version": "3.8.8"
  }
 },
 "nbformat": 4,
 "nbformat_minor": 5
}
