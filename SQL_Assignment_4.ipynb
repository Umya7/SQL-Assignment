{
 "cells": [
  {
   "cell_type": "markdown",
   "id": "3d855a78",
   "metadata": {},
   "source": [
    "### Assignment 4"
   ]
  },
  {
   "cell_type": "markdown",
   "id": "fc199165",
   "metadata": {},
   "source": [
    "**Q.1.** Write an SQL query to print the FIRST_NAME from Worker table after replacing ‘a’ with ‘A’."
   ]
  },
  {
   "cell_type": "markdown",
   "id": "d1db705d",
   "metadata": {},
   "source": [
    "**Ans:-**\n",
    "```python\n",
    "SELECT REPLACE(FIRST_NAME,'a','A') FROM Wokrer;\n",
    "```"
   ]
  },
  {
   "cell_type": "markdown",
   "id": "5fbf7e4e",
   "metadata": {},
   "source": [
    "**Q.2.** Write an SQL query to print all Worker details from the Worker table order by FIRST_NAME Ascending and DEPARTMENT Descending."
   ]
  },
  {
   "cell_type": "markdown",
   "id": "dcf6c880",
   "metadata": {},
   "source": [
    "**Ans:-**\n",
    "```python\n",
    "SELECT * FROM Worker ORDER BY FIRST_NAME ASC, LAST_NAME DESC;\n",
    "```"
   ]
  },
  {
   "cell_type": "markdown",
   "id": "7c1414a8",
   "metadata": {},
   "source": [
    "**Q.3.** Write an SQL query to fetch the names of workers who earn the highest salary."
   ]
  },
  {
   "cell_type": "markdown",
   "id": "6f72e347",
   "metadata": {},
   "source": [
    "**Ans:-**\n",
    "```python\n",
    "SELECT FIRST_NAME, LAST_NAME FROM Worker WHERE SALARY = (SELECT MAX(SALARY) FROM Worker);\n",
    "```"
   ]
  }
 ],
 "metadata": {
  "kernelspec": {
   "display_name": "Python 3",
   "language": "python",
   "name": "python3"
  },
  "language_info": {
   "codemirror_mode": {
    "name": "ipython",
    "version": 3
   },
   "file_extension": ".py",
   "mimetype": "text/x-python",
   "name": "python",
   "nbconvert_exporter": "python",
   "pygments_lexer": "ipython3",
   "version": "3.8.8"
  }
 },
 "nbformat": 4,
 "nbformat_minor": 5
}
