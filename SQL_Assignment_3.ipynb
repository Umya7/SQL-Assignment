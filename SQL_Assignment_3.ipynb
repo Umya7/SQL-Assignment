{
 "cells": [
  {
   "cell_type": "markdown",
   "id": "ff145f7f",
   "metadata": {},
   "source": [
    "### Assignment 3"
   ]
  },
  {
   "cell_type": "markdown",
   "id": "947726d1",
   "metadata": {},
   "source": [
    "**Q.1.** Write an SQL query to print the FIRST_NAME from Worker table after removing white spaces from the right side."
   ]
  },
  {
   "cell_type": "markdown",
   "id": "682529be",
   "metadata": {},
   "source": [
    "**Ans:-**\n",
    "```python\n",
    "SELECT RTRIM(FIRST_NAME) FROM Worker;\n",
    "```"
   ]
  },
  {
   "cell_type": "markdown",
   "id": "a8a48833",
   "metadata": {},
   "source": [
    "**Q.2.** Write an SQL query that fetches the unique values of DEPARTMENT from Worker table and prints its length."
   ]
  },
  {
   "cell_type": "markdown",
   "id": "8b633c58",
   "metadata": {},
   "source": [
    "**Ans:-**\n",
    "```python\n",
    "SELECT DISTINCT(DEPARTMENT),LEN(DEPARTMENT) FROM Worker;\n",
    "```"
   ]
  },
  {
   "cell_type": "markdown",
   "id": "4440056d",
   "metadata": {},
   "source": [
    "**Q.3.** Write an SQL query to fetch nth max salaries from a table."
   ]
  },
  {
   "cell_type": "markdown",
   "id": "54d159b2",
   "metadata": {},
   "source": [
    "**Ans:-**\n",
    "```python\n",
    "SELECT DISTINCT(Salary) FROM Worker ORDER BY Salary DESC LIMIT 1 OFFSET n;\n",
    "```"
   ]
  }
 ],
 "metadata": {
  "kernelspec": {
   "display_name": "Python 3",
   "language": "python",
   "name": "python3"
  },
  "language_info": {
   "codemirror_mode": {
    "name": "ipython",
    "version": 3
   },
   "file_extension": ".py",
   "mimetype": "text/x-python",
   "name": "python",
   "nbconvert_exporter": "python",
   "pygments_lexer": "ipython3",
   "version": "3.8.8"
  }
 },
 "nbformat": 4,
 "nbformat_minor": 5
}
