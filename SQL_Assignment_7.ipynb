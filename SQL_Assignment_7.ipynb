{
 "cells": [
  {
   "cell_type": "markdown",
   "id": "4c54ad6e",
   "metadata": {},
   "source": [
    "### Assignment 7"
   ]
  },
  {
   "cell_type": "markdown",
   "id": "e8b4a1e5",
   "metadata": {},
   "source": [
    "**Q.1.** Write an SQL query to show only odd rows from a table."
   ]
  },
  {
   "cell_type": "markdown",
   "id": "1a160237",
   "metadata": {},
   "source": [
    "**Ans:-**\n",
    "```python\n",
    "SELECT * FROM Worker Where MOD(worker_id,2) = 1\n",
    "```"
   ]
  },
  {
   "cell_type": "markdown",
   "id": "03f851d8",
   "metadata": {},
   "source": [
    "**Q.2.** Write an SQL query to clone a new table from another table."
   ]
  },
  {
   "cell_type": "markdown",
   "id": "cc81d50e",
   "metadata": {},
   "source": [
    "**Ans:-**\n",
    "```python\n",
    "# Code to Create a New table\n",
    "CREATE TABLE CloneWorker (\n",
    "    WORKER_ID INT NOT NULL AUTO INCREMENT PRIMARY KEY,\n",
    "    FIRST_NAME VARCHAR(50),\n",
    "    LAST_NAME VARCHAR(50),\n",
    "    SALARY INT,\n",
    "    DEPARTMENT VARCHAR(50),\n",
    "    JOINING_DATE DATETIME\n",
    ");\n",
    "# Code to Clone content of a table to another table\n",
    "INSERT INTO CloneWorker SELECT * FROM Worker;\n",
    "```"
   ]
  }
 ],
 "metadata": {
  "kernelspec": {
   "display_name": "Python 3",
   "language": "python",
   "name": "python3"
  },
  "language_info": {
   "codemirror_mode": {
    "name": "ipython",
    "version": 3
   },
   "file_extension": ".py",
   "mimetype": "text/x-python",
   "name": "python",
   "nbconvert_exporter": "python",
   "pygments_lexer": "ipython3",
   "version": "3.8.8"
  }
 },
 "nbformat": 4,
 "nbformat_minor": 5
}
