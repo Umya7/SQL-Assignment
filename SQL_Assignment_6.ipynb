{
 "cells": [
  {
   "cell_type": "markdown",
   "id": "5bad1a02",
   "metadata": {},
   "source": [
    "### Assignment 6"
   ]
  },
  {
   "cell_type": "markdown",
   "id": "f502ba97",
   "metadata": {},
   "source": [
    "**Q.1.** Write an SQL query to print details of the Workers who have joined in Feb’2014."
   ]
  },
  {
   "cell_type": "markdown",
   "id": "72812ed6",
   "metadata": {},
   "source": [
    "**Ans:-**\n",
    "```python\n",
    "#Approach 1\\\n",
    "SELECT * FROM Worker WHERE YEAR(JOINING_DATE) = 2014 AND MONTH(JOINING_DATE) = 02;\n",
    "\n",
    "#Approach 2\\\n",
    "SELECT * FROM Worker WHERE JOINING_DATE LIKE \"%2014-02%\"\n",
    "```"
   ]
  },
  {
   "cell_type": "markdown",
   "id": "63aed224",
   "metadata": {},
   "source": [
    "**Q.2.** Write an SQL query to fetch duplicate records having matching data in some fields of a table."
   ]
  },
  {
   "cell_type": "markdown",
   "id": "c29f49ad",
   "metadata": {},
   "source": [
    "**Ans:-**\n",
    "```python\n",
    "SELECT column_name, COUNT(column_name) FROM Worker GROUP BY FEILD HAVING COUNT(column_name) > 1;\n",
    "```"
   ]
  },
  {
   "cell_type": "markdown",
   "id": "b33aa4e6",
   "metadata": {},
   "source": [
    "**Q.3.** How to remove duplicate rows from Employees table."
   ]
  },
  {
   "cell_type": "markdown",
   "id": "c2723411",
   "metadata": {},
   "source": [
    "**Ans:-**\n",
    "    \n",
    "```python\n",
    "CREATE TABLE Employee (\n",
    "    ID INT PRIMARY KEY AUTO_INCREMENT NOT NULL,\n",
    "    FIRST_NAME VARCHAR(50),\n",
    "    LAST_NAME VARCHAR(50),\n",
    "    COUNTRY VARCHAR(50)\n",
    ");\n",
    "INSERT INTO Employee VALUES \n",
    "(1,'ADITYA','VARMA','INDIA'),\n",
    "(2,'ADITYA','VARMA','INDIA'),\n",
    "(3,'ADITYA','VARMA','INDIA'),\n",
    "(4,'STEVE','JOBS','USA'),\n",
    "(5,'STEVE','JOBS','USA'),\n",
    "(6,'STEVE','JOBS','USA');\n",
    "```"
   ]
  }
 ],
 "metadata": {
  "kernelspec": {
   "display_name": "Python 3",
   "language": "python",
   "name": "python3"
  },
  "language_info": {
   "codemirror_mode": {
    "name": "ipython",
    "version": 3
   },
   "file_extension": ".py",
   "mimetype": "text/x-python",
   "name": "python",
   "nbconvert_exporter": "python",
   "pygments_lexer": "ipython3",
   "version": "3.8.8"
  }
 },
 "nbformat": 4,
 "nbformat_minor": 5
}
