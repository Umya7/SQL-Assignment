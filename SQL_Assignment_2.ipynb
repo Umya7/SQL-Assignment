{
 "cells": [
  {
   "cell_type": "markdown",
   "id": "3f24cd4c",
   "metadata": {},
   "source": [
    "### Assignment 2"
   ]
  },
  {
   "cell_type": "markdown",
   "id": "bb6c08be",
   "metadata": {},
   "source": [
    "**Q.1.** Write an SQL query to print the first three characters of  FIRST_NAME from Worker table."
   ]
  },
  {
   "cell_type": "markdown",
   "id": "bb2fc43c",
   "metadata": {},
   "source": [
    "**Ans:-**\n",
    "```python\n",
    "SELECT SUBSTRING(FIRST_NAME,1,3) FROM Worker;\n",
    "```"
   ]
  },
  {
   "cell_type": "markdown",
   "id": "f9b893bd",
   "metadata": {},
   "source": [
    "**Q.2.** Write an SQL query to find the position of the alphabet (‘a’) in the first name column ‘Amitabh’ from Worker table."
   ]
  },
  {
   "cell_type": "markdown",
   "id": "a4d1c017",
   "metadata": {},
   "source": [
    "**Ans:-**\n",
    "```python\n",
    "#Apporach 1\\\n",
    "SELECT LOCATE('a', FIRST_NAME) FROM Worker WHERE FIRST_NAME = 'Amitabh';\n",
    "\n",
    "#Approach 2\\\n",
    "SELECT POSITION('a' IN FIRST_NAME) FROM Worker WHERE FIRST_NAME = 'Amitabh';\n",
    "```"
   ]
  },
  {
   "cell_type": "markdown",
   "id": "fc06a291",
   "metadata": {},
   "source": [
    "**Q.3.** Write an SQL query to print the name of employees having the highest salary in each department."
   ]
  },
  {
   "cell_type": "markdown",
   "id": "8489315c",
   "metadata": {},
   "source": [
    "**Ans:-**\n",
    "```python\n",
    "SELECT first_name, last_name, salary, department FROM Worker w WHERE salary = (SELECT MAX(salary) FROM Worker WHERE department = w.department)\n",
    "```"
   ]
  }
 ],
 "metadata": {
  "kernelspec": {
   "display_name": "Python 3",
   "language": "python",
   "name": "python3"
  },
  "language_info": {
   "codemirror_mode": {
    "name": "ipython",
    "version": 3
   },
   "file_extension": ".py",
   "mimetype": "text/x-python",
   "name": "python",
   "nbconvert_exporter": "python",
   "pygments_lexer": "ipython3",
   "version": "3.8.8"
  }
 },
 "nbformat": 4,
 "nbformat_minor": 5
}
