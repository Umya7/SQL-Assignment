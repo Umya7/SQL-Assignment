{
 "cells": [
  {
   "cell_type": "markdown",
   "id": "08ec9954",
   "metadata": {},
   "source": [
    "### Assignment 1"
   ]
  },
  {
   "cell_type": "markdown",
   "id": "fa49bb7e",
   "metadata": {},
   "source": [
    "**Q.1.** Write an SQL query to fetch “FIRST_NAME” from Worker table using the alias\n",
    "name as < WORKER_NAME >."
   ]
  },
  {
   "cell_type": "markdown",
   "id": "def388f4",
   "metadata": {},
   "source": [
    "**Ans:-**\n",
    "```python\n",
    "SELECT FIRST_NAME AS WORKER_NAME FROM Worker;\n",
    "```"
   ]
  },
  {
   "cell_type": "markdown",
   "id": "8e44ce9a",
   "metadata": {},
   "source": [
    "**Q.2.** Write an SQL query to fetch unique values of DEPARTMENT from Worker table."
   ]
  },
  {
   "cell_type": "markdown",
   "id": "528fa03a",
   "metadata": {},
   "source": [
    "**Ans:-**\n",
    "```python\n",
    "SELECT DISTINCT DEPARTMENT FROM Worker;\n",
    "```"
   ]
  },
  {
   "cell_type": "markdown",
   "id": "44dfe5a8",
   "metadata": {},
   "source": [
    "**Q.3.** Write an SQL query to show the last 5 record from a table."
   ]
  },
  {
   "cell_type": "markdown",
   "id": "d1bee130",
   "metadata": {},
   "source": [
    "**Ans:-**\n",
    "```python\n",
    "SELECT * from Worker ORDER by id DESC LIMIT 5;\n",
    "```"
   ]
  }
 ],
 "metadata": {
  "kernelspec": {
   "display_name": "Python 3",
   "language": "python",
   "name": "python3"
  },
  "language_info": {
   "codemirror_mode": {
    "name": "ipython",
    "version": 3
   },
   "file_extension": ".py",
   "mimetype": "text/x-python",
   "name": "python",
   "nbconvert_exporter": "python",
   "pygments_lexer": "ipython3",
   "version": "3.8.8"
  }
 },
 "nbformat": 4,
 "nbformat_minor": 5
}
