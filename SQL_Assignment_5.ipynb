{
 "cells": [
  {
   "cell_type": "markdown",
   "id": "e0ee54ff",
   "metadata": {},
   "source": [
    "### Assignment 5"
   ]
  },
  {
   "cell_type": "markdown",
   "id": "6291608f",
   "metadata": {},
   "source": [
    "**Q.1.** Write an SQL query to print details of workers excluding first names, “Vipul” and “Satish” from Worker table."
   ]
  },
  {
   "cell_type": "markdown",
   "id": "7d5b4fb5",
   "metadata": {},
   "source": [
    "**Ans:-**\n",
    "```python\n",
    "SELECT * FROM Worker WHERE FIRST_NAME NOT IN ('Vipul','Satish');\n",
    "```"
   ]
  },
  {
   "cell_type": "markdown",
   "id": "c1086e5c",
   "metadata": {},
   "source": [
    "**Q.2.** Write an SQL query to print details of the Workers whose FIRST_NAME ends with ‘h’ and contains six alphabets."
   ]
  },
  {
   "cell_type": "markdown",
   "id": "50e681e2",
   "metadata": {},
   "source": [
    "**Ans:-**\n",
    "```python\n",
    "SELECT * FROM Worker WHERE FIRST_NAME LIKE '______h';\n",
    "```"
   ]
  },
  {
   "cell_type": "markdown",
   "id": "154e8f35",
   "metadata": {},
   "source": [
    "**Q.3.** Write a query to validate Email of Employee."
   ]
  },
  {
   "cell_type": "markdown",
   "id": "c6ffce77",
   "metadata": {},
   "source": [
    "**Ans:-**\n",
    "```python\n",
    "SELECT * FROM Worker WHERE email LIKE \"_%@_%._%\"\n",
    "```"
   ]
  }
 ],
 "metadata": {
  "kernelspec": {
   "display_name": "Python 3",
   "language": "python",
   "name": "python3"
  },
  "language_info": {
   "codemirror_mode": {
    "name": "ipython",
    "version": 3
   },
   "file_extension": ".py",
   "mimetype": "text/x-python",
   "name": "python",
   "nbconvert_exporter": "python",
   "pygments_lexer": "ipython3",
   "version": "3.8.8"
  }
 },
 "nbformat": 4,
 "nbformat_minor": 5
}
