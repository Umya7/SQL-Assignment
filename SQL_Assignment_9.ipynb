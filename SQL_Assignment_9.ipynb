{
 "cells": [
  {
   "cell_type": "markdown",
   "id": "01bb5132",
   "metadata": {},
   "source": [
    "### Assignment 9"
   ]
  },
  {
   "cell_type": "markdown",
   "id": "62991c0f",
   "metadata": {},
   "source": [
    "**Q.1.** Write an SQL query to show the top n (say 10) records of a table."
   ]
  },
  {
   "cell_type": "markdown",
   "id": "8136ce7b",
   "metadata": {},
   "source": [
    "**Ans:-**\n",
    "```python\n",
    "SELECT TOP 10 * FROM Worker; #Top Keyword is not supported by Many Popular Databases  \n",
    "SELECT * FROM Worker LIMIT 10;\n",
    "```"
   ]
  },
  {
   "cell_type": "markdown",
   "id": "dac84e96",
   "metadata": {},
   "source": [
    "**Q.2.** Write an SQL query to determine the nth (say n=5) highest salary from a table."
   ]
  },
  {
   "cell_type": "markdown",
   "id": "fdeb7742",
   "metadata": {},
   "source": [
    "**Ans:-**\n",
    "```python\n",
    "SELECT DISTINCT(Salary) FROM Worker ORDER BY DESC LIMIT 1 OFFSET 5;\n",
    "```"
   ]
  }
 ],
 "metadata": {
  "kernelspec": {
   "display_name": "Python 3",
   "language": "python",
   "name": "python3"
  },
  "language_info": {
   "codemirror_mode": {
    "name": "ipython",
    "version": 3
   },
   "file_extension": ".py",
   "mimetype": "text/x-python",
   "name": "python",
   "nbconvert_exporter": "python",
   "pygments_lexer": "ipython3",
   "version": "3.8.8"
  }
 },
 "nbformat": 4,
 "nbformat_minor": 5
}
